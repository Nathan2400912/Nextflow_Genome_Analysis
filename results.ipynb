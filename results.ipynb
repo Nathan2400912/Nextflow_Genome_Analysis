{
 "cells": [
  {
   "attachments": {},
   "cell_type": "markdown",
   "metadata": {},
   "source": [
    "## BLAST results"
   ]
  },
  {
   "attachments": {},
   "cell_type": "markdown",
   "metadata": {},
   "source": [
    "The sequence matches 100% identically to the complete genome of Candidatus Carsonella ruddii HC isolate Thao2000. It has an e-value of 0. It also matches other organsisms. Though the e-value for all matches are 0 the score for the first match is much greater. "
   ]
  },
  {
   "attachments": {},
   "cell_type": "markdown",
   "metadata": {},
   "source": [
    "## Circos Plot"
   ]
  },
  {
   "cell_type": "code",
   "execution_count": 5,
   "metadata": {},
   "outputs": [
    {
     "name": "stdout",
     "output_type": "stream",
     "text": [
      "{'NZ_AP019723.1': 2494738}\n"
     ]
    }
   ],
   "source": [
    "from pycirclize import Circos\n",
    "from pycirclize.parser import Gff\n",
    "\n",
    "# Load in files\n",
    "fasta_file = \"refs/Cutibacterium_acnes.fna\"\n",
    "gff_file = \"results/Cutibacterium_acnes/Cutibacterium_acnes/Cutibacterium_acnes.gff\"\n",
    "\n",
    "gff = Gff(gff_file)\n",
    "\n",
    "# Initialize Circos instance with genome size\n",
    "seqid2size = gff.get_seqid2size()\n",
    "# If there's only one sequence, extract its size\n",
    "if len(seqid2size) == 1:\n",
    "    genome_size = list(seqid2size.values())[0]\n",
    "    sectors = {\"NZ_AP019723.1\": genome_size}\n",
    "space = 0 if len(sectors) == 1 else 2\n",
    "circos = Circos(sectors, space=space)\n",
    "circos.text(f\"Cutibacterium acnes\\n\\nGCF_006739385.1\", size=14)\n",
    "\n",
    "# Extract CDS features\n",
    "seqid2features = gff.get_seqid2features(feature_type=\"CDS\")\n",
    "\n",
    "# Plot CDS features\n",
    "for sector in circos.sectors:\n",
    "    # Setup track for features plot\n",
    "    f_cds_track = sector.add_track((95, 100))\n",
    "    f_cds_track.axis(fc=\"lightgrey\", ec=\"none\", alpha=0.5)\n",
    "    r_cds_track = sector.add_track((90, 95))\n",
    "    r_cds_track.axis(fc=\"lightgrey\", ec=\"none\", alpha=0.5)\n",
    "    # Plot forward/reverse strand CDS\n",
    "    features = seqid2features[sector.name]\n",
    "    for feature in features:\n",
    "        if feature.location.strand == 1:\n",
    "            f_cds_track.genomic_features(feature, plotstyle=\"arrow\", fc=\"salmon\", lw=0.5)\n",
    "        else:\n",
    "            r_cds_track.genomic_features(feature, plotstyle=\"arrow\", fc=\"skyblue\", lw=0.5)\n",
    "\n",
    "    # Plot 'gene' qualifier label if exists\n",
    "    labels, label_pos_list = [], []\n",
    "    for feature in features:\n",
    "        start = int(feature.location.start)\n",
    "        end = int(feature.location.end)\n",
    "        label_pos = (start + end) / 2\n",
    "        gene_name = feature.qualifiers.get(\"gene\", [None])[0]\n",
    "        if gene_name is not None:\n",
    "            labels.append(gene_name)\n",
    "            label_pos_list.append(label_pos)\n",
    "    f_cds_track.xticks(label_pos_list, labels, label_size=6, label_orientation=\"vertical\")\n",
    "\n",
    "    # Plot xticks (interval = 10 Kb)\n",
    "    r_cds_track.xticks_by_interval(\n",
    "        10000, outer=False, label_formatter=lambda v: f\"{v/1000:.1f} Kb\"\n",
    "    )\n",
    "\n",
    "circos.savefig(\"C_acnes.png\")"
   ]
  }
 ],
 "metadata": {
  "kernelspec": {
   "display_name": "base",
   "language": "python",
   "name": "python3"
  },
  "language_info": {
   "codemirror_mode": {
    "name": "ipython",
    "version": 3
   },
   "file_extension": ".py",
   "mimetype": "text/x-python",
   "name": "python",
   "nbconvert_exporter": "python",
   "pygments_lexer": "ipython3",
   "version": "3.9.21"
  },
  "orig_nbformat": 4
 },
 "nbformat": 4,
 "nbformat_minor": 2
}
